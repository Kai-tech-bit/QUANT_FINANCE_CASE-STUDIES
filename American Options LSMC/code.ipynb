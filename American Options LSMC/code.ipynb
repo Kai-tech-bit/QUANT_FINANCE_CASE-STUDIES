{
 "cells": [
  {
   "cell_type": "code",
   "execution_count": 119,
   "id": "ded4e9f9",
   "metadata": {},
   "outputs": [],
   "source": [
    "import numpy as np\n",
    "import matplotlib.pyplot as plt\n",
    "from sklearn.linear_model import LinearRegression\n",
    "from sklearn.preprocessing import PolynomialFeatures\n",
    "import pandas as pd\n",
    "\n"
   ]
  },
  {
   "cell_type": "code",
   "execution_count": 87,
   "id": "c7cc773b",
   "metadata": {},
   "outputs": [
    {
     "data": {
      "text/plain": [
       "np.float64(0.6870374800343878)"
      ]
     },
     "execution_count": 87,
     "metadata": {},
     "output_type": "execute_result"
    }
   ],
   "source": [
    "# paramter set up \n",
    "s0=100\n",
    "r=0.05\n",
    "vol=0.10\n",
    "T=2\n",
    "noofsteps=100\n",
    "noofpaths=10000\n",
    "\n",
    "def monte_carlo(s0,r,T,vol,noofsteps,noofpaths):\n",
    "    dt=T/noofsteps\n",
    "    z=np.random.standard_normal((noofpaths,noofsteps))\n",
    "    rets = (r - 0.5*vol**2)*dt + vol*z*np.sqrt(dt)\n",
    "    cum_rets = np.cumsum(rets,axis=1)\n",
    "    paths = np.exp(cum_rets)*s0\n",
    "    paths = np.hstack([s0*np.ones((noofpaths,1)),paths])\n",
    "    time = np.arange(0,noofsteps+1)*dt\n",
    "    return paths,time\n",
    "    \n",
    "def American_option_pricer(s0,strike,vol,r,T,noofsteps,noofpaths,type):\n",
    "    paths,time =monte_carlo(s0,r,T,vol,noofsteps,noofpaths)\n",
    "    type = type.lower()\n",
    "    dt= T/noofsteps\n",
    "    cashflows = np.zeros((noofpaths,noofsteps+1))\n",
    "    discount = np.exp(-r*dt)\n",
    "    Excercise_payoff_immediate = np.maximum(paths-strike,0) if type=='call' else np.maximum(strike-paths,0)\n",
    "    cashflows[:,-1] = Excercise_payoff_immediate[:,-1]\n",
    "    for t in range(noofsteps-1,0,-1):\n",
    "                itm = Excercise_payoff_immediate[:,t]>0\n",
    "                x=paths[itm,t]\n",
    "                y= cashflows[itm,t+1]*discount\n",
    "                if len(x)==0:\n",
    "                    continue\n",
    "                coeffs = np.polyfit(x,y,2)\n",
    "                continuation= np.polyval(coeffs,x)\n",
    "                excercise = Excercise_payoff_immediate[itm,t] > continuation\n",
    "                cashflows[itm,t] = np.where(excercise,Excercise_payoff_immediate[itm,t],cashflows[itm,t+1]*discount)\n",
    "                not_itm = ~itm\n",
    "                cashflows[not_itm,t] = cashflows[not_itm,t]*discount\n",
    "                price =  np.mean(cashflows[:,1]*discount)\n",
    "    return price\n",
    "    \n",
    "paths,time=monte_carlo(s0,r,T,vol,noofsteps,noofpaths)\n",
    "American_option_pricer(s0,100,vol,r,T,noofsteps,noofpaths,'put')\n"
   ]
  }
 ],
 "metadata": {
  "kernelspec": {
   "display_name": "Python 3",
   "language": "python",
   "name": "python3"
  },
  "language_info": {
   "codemirror_mode": {
    "name": "ipython",
    "version": 3
   },
   "file_extension": ".py",
   "mimetype": "text/x-python",
   "name": "python",
   "nbconvert_exporter": "python",
   "pygments_lexer": "ipython3",
   "version": "3.13.1"
  }
 },
 "nbformat": 4,
 "nbformat_minor": 5
}
