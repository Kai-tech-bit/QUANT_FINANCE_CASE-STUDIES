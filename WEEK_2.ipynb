{
 "cells": [
  {
   "cell_type": "code",
   "execution_count": 3,
   "metadata": {},
   "outputs": [],
   "source": [
    "                                                # IMPORTING LIBRARIES\n",
    "import numpy as np\n",
    "import pandas as pd\n",
    "import matplotlib.pyplot as plt\n",
    "import scipy.stats as stats\n",
    "import os\n",
    "import ccxt\n",
    "import datetime as dt\n",
    "import seaborn as sns\n",
    "import yfinance as yf\n",
    "\n",
    "                                                    # CREATING THE RESULTS FOLDER FOR THE PROBLEMS SETS \n",
    "results_dir='RESULTS_WEEK_2'\n",
    "if not os.path.exists(results_dir):\n",
    "    os.makedirs(results_dir)\n",
    "\n"
   ]
  },
  {
   "cell_type": "code",
   "execution_count": null,
   "metadata": {},
   "outputs": [
    {
     "data": {
      "text/plain": [
       "(np.float64(0.9902292263173579), np.float64(0.09928228222780743))"
      ]
     },
     "execution_count": 24,
     "metadata": {},
     "output_type": "execute_result"
    }
   ],
   "source": [
    "                                    # DAY 1 MERTON JUMP MODEL WITH POISSON JUMPS AND MONTE CARLO PRICING FOR OPTIONS\n",
    "        \n",
    "                                    \n",
    "                                        # INITIALIZING THE IMPORTANT PARAMTERS \n",
    "S_0=100                                 # INITIAL STOCK PRICE\n",
    "RISK_FREE_RATE=0.05                     # 5% RISK FREE T_BILL RATE\n",
    "VOLATILITY_STOCK=0.20                   # VOLATILITY OF STOCK\n",
    "STRIKES=np.linspace(80,200,20)          # STRIKE VALUES\n",
    "DURATION=1                              # TIME TO Maturity\n",
    "Nofpaths=10000                          # NUMBER OF PATHS\n",
    "Nofsteps=1000                           # Number of time steps\n",
    "LAMBDA=0.5                              # poisson jump intensity\n",
    "JUMP_MEAN=-0.0148                        # JUMP MAGNITUDE MEAN\n",
    "JUMP_VOLATILTITY=0.10                   # JUMP MAGNITUDE VOLAITILTY\n",
    "\n",
    "\n",
    "'''MODEL TAKES\n",
    "1) THE JUMP FOLLOWS THE POSSION INDICATOR PROCESS \n",
    "2) THE JUMP SIZE IS A RANDOM NORMAL  VARIABLE WITH A GIVEN MEAN AND VOLATILITY\n",
    "3) THE JUMP SIZE IS NOT CORRELATED WITH THE STOCK PRICE MOVEMENTS\n",
    "4) THE VOLATILITY AND THE JUMP PARAMTERS AND NON STOCHASTIC \n",
    "5) THE METHOD FOR PATH GENERATION WILL BE EULER DISCRETISATION\n",
    "\n",
    "'''\n",
    "\n",
    "def Path_Generation(INITIAL_STOCK,RISK_FREE_RATE,VOLATILITY_STOCK,DURATION,LAMBDA,JUMP_MEAN,JUMP_VOLATILTITY,Nofsteps,Nofpaths):\n",
    "    STOCK_PATHS=np.zeros((Nofpaths,Nofsteps+1))\n",
    "    z=np.random.randn(Nofpaths,Nofsteps)\n",
    "    STOCK_PATHS[:,0]=INITIAL_STOCK\n",
    "    dt=DURATION/Nofsteps\n",
    "    poisson=np.random.poisson(LAMBDA,size=(Nofpaths,Nofsteps))\n",
    "    poisson=np.where(poisson>0,1,0)\n",
    "    jump_mag=np.random.normal(JUMP_MEAN,JUMP_VOLATILTITY,size=(Nofpaths,Nofsteps))\n",
    "    time=[i*dt for i in range(Nofsteps+1)]\n",
    "    PARAMTERS={}\n",
    "    for I in range(Nofsteps):\n",
    "        z[:,I]=(z[:,I]-np.mean(z[:,I]))/(np.std(z[:,I]))\n",
    "        STOCK_PATHS[:,I+1]=STOCK_PATHS[:,I] + STOCK_PATHS[:,I]*(RISK_FREE_RATE-LAMBDA*np.mean(jump_mag[:,I]))*dt + VOLATILITY_STOCK*z[:,I]*np.sqrt(dt) + STOCK_PATHS[:,I]*(np.exp(jump_mag[:,I])-1)*poisson[:,I]\n",
    "        STOCK_PATHS[:,I+1]=np.maximum(STOCK_PATHS[:,I+1],0)\n",
    "        \n",
    "    PARAMTERS['PATHS']=STOCK_PATHS\n",
    "    PARAMTERS['TIME']=time\n",
    "    PARAMTERS['POISSON_MATRIX']=poisson\n",
    "    PARAMTERS['JUMP_MAGNITUDE_MATRIX']=jump_mag\n",
    "    PARAMTERS['STOCK_MATURITY']=STOCK_PATHS[:,-1]\n",
    "    return PARAMTERS\n",
    "\n",
    "\n",
    "def monte_carlo_pricing(type,INITIAL_STOCK,STRIKE,RISK_FREE_RATE,VOLATILITY_STOCK,DURATION,LAMBDA,JUMP_MEAN,JUMP_VOLATILTITY,Nofsteps,Nofpaths):\n",
    "     parameters=Path_Generation(INITIAL_STOCK,RISK_FREE_RATE,VOLATILITY_STOCK,DURATION,LAMBDA,JUMP_MEAN,JUMP_VOLATILTITY,Nofsteps,Nofpaths)\n",
    "     S_T=parameters['STOCK_MATURITY']\n",
    "     type=type.lower()\n",
    "     if type=='call':\n",
    "         price=np.exp(-RISK_FREE_RATE*DURATION)*np.mean(np.maximum(S_T-STRIKE,0))\n",
    "     elif type=='put':\n",
    "        price=np.exp(-RISK_FREE_RATE*DURATION)*np.mean(np.maximum(STRIKE-S_T,0))\n",
    "     return price\n",
    "    \n",
    "Path_Generation(S_0,RISK_FREE_RATE,VOLATILITY_STOCK,DURATION,LAMBDA,JUMP_MEAN,JUMP_VOLATILTITY,Nofsteps,Nofpaths)['STOCK_MATURITY'].max()\n"
   ]
  }
 ],
 "metadata": {
  "kernelspec": {
   "display_name": "Python 3",
   "language": "python",
   "name": "python3"
  },
  "language_info": {
   "codemirror_mode": {
    "name": "ipython",
    "version": 3
   },
   "file_extension": ".py",
   "mimetype": "text/x-python",
   "name": "python",
   "nbconvert_exporter": "python",
   "pygments_lexer": "ipython3",
   "version": "3.13.1"
  }
 },
 "nbformat": 4,
 "nbformat_minor": 2
}
