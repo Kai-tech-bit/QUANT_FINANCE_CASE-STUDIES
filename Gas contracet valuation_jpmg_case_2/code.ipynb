{
 "cells": [
  {
   "cell_type": "code",
   "execution_count": null,
   "id": "b5e299a8",
   "metadata": {},
   "outputs": [],
   "source": [
    "import numpy as np\n",
    "import pandas as pd"
   ]
  },
  {
   "cell_type": "code",
   "execution_count": null,
   "id": "c88d7c53",
   "metadata": {},
   "outputs": [
    {
     "data": {
      "text/plain": [
       "'10/31/20'"
      ]
     },
     "execution_count": 27,
     "metadata": {},
     "output_type": "execute_result"
    }
   ],
   "source": [
    "df = pd.read_csv('Nat_Gas.csv')\n",
    "#df['Dates'] = pd.to_datetime(df['Dates'],format='%m/%d/%y')\n",
    "\n",
    "def valuation(injection_date,withdrawal_date,p_injection,p_withdrawal,r_injection,r_withdrawal,max_vol,storage_costs_day,data):\n",
    "    try:\n",
    "        df = data.copy()\n",
    "        df['Dates'] = pd.to_datetime(df['Dates'],format='%m/%d/%y')\n",
    "        df['Days'] = (df['Dates'] - df['Dates'].min()).dt.days\n",
    "        injection_date = pd.to_datetime(injection_date,format='%m/%d/%y')\n",
    "        withdrawal_date = pd.to_datetime(withdrawal_date,format='%m/%d/%y')\n",
    "        days = (withdrawal_date - injection_date).days\n",
    "        p_injection = df.loc[df['Dates'] == injection_date,'Prices'].values[0]\n",
    "        p_withdrawal = df.loc[df['Dates'] == withdrawal_date,'Prices'].values[0]\n",
    "        cost = storage_costs_day * (days) * max_vol + r_injection * max_vol + r_withdrawal * max_vol\n",
    "        revenue = (p_withdrawal - p_injection) * max_vol\n",
    "        valuation = revenue - cost\n",
    "        return valuation\n",
    "    except:\n",
    "        return \"Error: Please check the input values dates dont match with the data or other inputs are invalid\"\n",
    "\n"
   ]
  }
 ],
 "metadata": {
  "kernelspec": {
   "display_name": "Python 3",
   "language": "python",
   "name": "python3"
  },
  "language_info": {
   "codemirror_mode": {
    "name": "ipython",
    "version": 3
   },
   "file_extension": ".py",
   "mimetype": "text/x-python",
   "name": "python",
   "nbconvert_exporter": "python",
   "pygments_lexer": "ipython3",
   "version": "3.13.1"
  }
 },
 "nbformat": 4,
 "nbformat_minor": 5
}
