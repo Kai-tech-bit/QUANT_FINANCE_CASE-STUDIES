{
 "cells": [
  {
   "cell_type": "code",
   "execution_count": 62,
   "id": "ef057090",
   "metadata": {},
   "outputs": [],
   "source": [
    "import numpy as np\n",
    "import pandas as pd\n",
    "import matplotlib.pyplot as plt\n",
    "import seaborn as sns\n",
    "import scipy as sc\n",
    "import sklearn as sk\n",
    "from sklearn.metrics import mean_squared_error, r2_score"
   ]
  },
  {
   "cell_type": "code",
   "execution_count": null,
   "id": "804f8cd5",
   "metadata": {},
   "outputs": [],
   "source": [
    "df = pd.read_csv('Nat_Gas.csv')\n",
    "df['Dates'] = pd.to_datetime(df['Dates'],format='%m/%d/%y')\n",
    "\n",
    "#plotting the prices againts the dates to analse the trend and pattern \n",
    "plt.style.use('dark_background')\n",
    "plt.figure(figsize=(10,6))\n",
    "sns.lineplot(data=df,x='Dates',y='Prices',label='Price',color='cyan')\n",
    "plt.xticks(rotation=45) \n",
    "plt.title('Natural Gas Prices over the years',fontsize=20)\n",
    "plt.xlabel('Dates',fontsize=15)\n",
    "plt.ylabel('Prices',fontsize=15)\n",
    "plt.legend()\n",
    "\n",
    "df['month'] = df['Dates'].dt.month\n",
    "monthly_avg = df.groupby('month')['Prices'].mean()\n",
    "\n",
    "plt.figure(figsize=(10,6))\n",
    "plt.style.use('dark_background')\n",
    "\n",
    "sns.lineplot(x=monthly_avg.index,y=monthly_avg.values,label='Price',color='cyan')\n",
    "plt.title('Monthly Avetage Prices',fontsize=20)\n",
    "plt.xlabel('Dates',fontsize=15)\n",
    "plt.ylabel('Average Prices',fontsize=15)\n"
   ]
  },
  {
   "cell_type": "code",
   "execution_count": null,
   "id": "3c4404ef",
   "metadata": {},
   "outputs": [
    {
     "data": {
      "text/plain": [
       "np.float64(12.98685143842427)"
      ]
     },
     "execution_count": 96,
     "metadata": {},
     "output_type": "execute_result"
    }
   ],
   "source": [
    "# using linear regression over the time series and adate points\n",
    "df['Daysfromstart'] = (df['Dates'] - df['Dates'].min()).dt.days\n",
    "\n",
    "#Linear regression\n",
    "x_linear = df['Daysfromstart']\n",
    "y =  df['Prices']\n",
    "\n",
    "linear_model = sk.linear_model.LinearRegression()\n",
    "linear_model.fit(x_linear.values.reshape(-1,1),y)\n",
    "linear_pred = linear_model.predict(x_linear.values.reshape(-1,1))\n",
    "\n",
    "#polynotmial regression (degree 2)\n",
    "poly = sk.preprocessing.PolynomialFeatures(degree=2)\n",
    "x_poly = poly.fit_transform(x_linear.values.reshape(-1,1))\n",
    "poly_model = sk.linear_model.LinearRegression()\n",
    "poly_model.fit(x_poly,y)\n",
    "poly_pred = poly_model.predict(x_poly)\n",
    "\n",
    "# seasonal Regresssion\n",
    "df['month_angle'] = 2*np.pi*df['month']/12\n",
    "x_seasonal = np.column_stack([df['Daysfromstart'],np.sin(df['month_angle']),np.cos(df['month_angle'])])\n",
    "\n",
    "seasonal_model = sk.linear_model.LinearRegression()\n",
    "seasonal_model.fit(x_seasonal,y)\n",
    "seasonal_pred = seasonal_model.predict(x_seasonal)\n",
    "\n",
    "r2={}\n",
    "r2['Linear Regression'] = r2_score(y,linear_pred)\n",
    "r2['Linear Regression'+'(Degree 2)'] = r2_score(y,poly_pred)\n",
    "r2['seasonal Regression'] = r2_score(y,seasonal_pred)\n",
    "\n",
    "def predictor(date,model='seasonal'):\n",
    "    date = pd.to_datetime(date,format='%m/%d/%y')\n",
    "    days_from_start = (date - df['Dates'].min()).days\n",
    "    month = date.month\n",
    "    month_angle = 2*np.pi*month/12\n",
    "\n",
    "    if model == 'linear':\n",
    "        pred = linear_model.predict(np.array([[days_from_start]]))\n",
    "    elif model == 'poly':\n",
    "        days_poly = poly.transform(np.array([[days_from_start]]))\n",
    "        pred = poly_model.predict(days_poly)\n",
    "    elif model == 'seasonal':\n",
    "        seasonal_features = np.array([[days_from_start,np.sin(month_angle),np.cos(month_angle)]])\n",
    "        pred = seasonal_model.predict(seasonal_features)\n",
    "    else:\n",
    "        raise ValueError(\"Model not recognized. Choose from 'linear', 'poly', or 'seasonal'.\")\n",
    "    \n",
    "    return pred[0]\n"
   ]
  }
 ],
 "metadata": {
  "kernelspec": {
   "display_name": "Python 3",
   "language": "python",
   "name": "python3"
  },
  "language_info": {
   "codemirror_mode": {
    "name": "ipython",
    "version": 3
   },
   "file_extension": ".py",
   "mimetype": "text/x-python",
   "name": "python",
   "nbconvert_exporter": "python",
   "pygments_lexer": "ipython3",
   "version": "3.13.1"
  }
 },
 "nbformat": 4,
 "nbformat_minor": 5
}
