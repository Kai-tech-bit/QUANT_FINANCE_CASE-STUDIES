{
 "cells": [
  {
   "cell_type": "code",
   "execution_count": null,
   "id": "ca0cc22d",
   "metadata": {},
   "outputs": [],
   "source": [
    "import numpy as np\n",
    "import pandas as pd\n",
    "import matplotlib.pyplot as plt\n",
    "import os \n",
    "\n",
    "foldername='Results'\n",
    "if os.path.exists(foldername):\n",
    "    pass\n",
    "else:\n",
    "    os.makedirs(foldername)\n",
    "X=np.array([[1,2,3],[4,5,6],[7,8,9]])\n",
    "x=np.array([1,2,3,3,3,4,5,6,7,8,9,2,3,4,5,6])\n"
   ]
  },
  {
   "cell_type": "code",
   "execution_count": null,
   "id": "29755807",
   "metadata": {},
   "outputs": [],
   "source": [
    "# Define paramters and monte carlo simulaotr with pricing fucntion fpr asian options \n",
    "\n",
    "s0=100\n",
    "k=np.linspace(80,120,5)\n",
    "r=0.05\n",
    "sigma=0.3\n",
    "t=np.linspace(1,2,5)\n",
    "nofsteps=100\n",
    "noofpaths=10000\n",
    "Data = pd.DataFrame(columns = range(len(t)), index = range(len(k)))\n",
    "Data.index.name='Strikes'\n",
    "Data.columns.name='Maturities'\n",
    "\n",
    "def monte_carlo_asian(s0,k,r,sigma,t,nofsteps,noofpaths,type):\n",
    "    Results={}\n",
    "    price = 0\n",
    "    payoff = 0\n",
    "    type=type.lower()\n",
    "    dt=t/nofsteps\n",
    "    stock=np.zeros((noofpaths,nofsteps+1))\n",
    "    stock[:,0]=s0\n",
    "    z=np.random.normal(0,1,(noofpaths,nofsteps))\n",
    "    time=np.zeros(nofsteps+1)\n",
    "    for i in range(nofsteps):\n",
    "        z[:,i]=(z[:,i]-np.mean(z[:,i]))/np.std(z[:,i],ddof=1)\n",
    "        stock[:,i+1]=stock[:,i] + stock[:,i]*r*dt + stock[:,i]*sigma*z[:,i]*np.sqrt(dt)  \n",
    "        time[i+1]=time[i]+dt\n",
    "    Results['stock']=stock\n",
    "    Results['time']=time\n",
    "    Results['terminal']=stock[:,-1]\n",
    "    Results['average']=np.mean(stock,axis=1)\n",
    "    \n",
    "    if type=='call':\n",
    "        price = np.exp(-r*t)*np.mean(np.maximum(Results['average']-k,0))\n",
    "        payoff = np.maximum(Results['average']-k,0)\n",
    "    if type=='put':\n",
    "        price = np.exp(-r*t)*np.mean(np.maximum(k-Results['average'],0))\n",
    "        payoff = np.maximum(k-Results['average'],0)\n",
    "    Results['price']=price\n",
    "    Results['payoff']=payoff\n",
    "    return Results\n",
    "\n"
   ]
  },
  {
   "cell_type": "code",
   "execution_count": null,
   "id": "c9d61f29",
   "metadata": {},
   "outputs": [],
   "source": [
    "# Generatig the data for the given set fo strikes and maturities and getting call prices\n",
    "for i in range(len(k)):\n",
    "    for j in range(len(t)):\n",
    "        result=monte_carlo_asian(s0,k[i],r,sigma,t[j],nofsteps,noofpaths,'call')\n",
    "        Data.iloc[i,j]=result['price']  \n",
    "Data.to_csv('Results/Asian_call_prices.csv')"
   ]
  },
  {
   "cell_type": "code",
   "execution_count": null,
   "id": "6f79f814",
   "metadata": {},
   "outputs": [],
   "source": [
    "# plots for the given set of strikes and maturities\n",
    "call = monte_carlo_asian(s0,105,r,sigma,1,nofsteps,noofpaths,'call')\n",
    "put = monte_carlo_asian(s0,95,r,sigma,1,nofsteps,noofpaths,'put')\n",
    "\n",
    "# plotting the payoff for the asian optin for call and puts for the given set of strikes and matrutities \n",
    "plt.style.use('dark_background')\n",
    "plt.figure(figsize=(10,6))\n",
    "plt.plot(np.unique(call['average']),np.sort(call['payoff']),color='cyan',label='Call option payoff',linewidth=2)\n",
    "plt.xlabel('Average Price')\n",
    "plt.ylabel('Payoff')\n",
    "plt.title('Asian Call Option Payoff')\n",
    "plt.legend()\n",
    "plt.grid(color='red',linestyle='--')\n",
    "\n",
    "\n",
    "plt.style.use('dark_background')\n",
    "plt.figure(figsize=(10,6))\n",
    "plt.plot(np.unique(put['average']) , np.maximum(95-np.unique(put['average']),0),color='cyan',label='Call option payoff',linewidth=2)\n",
    "plt.xlabel('Average Price')\n",
    "plt.ylabel('Payoff')\n",
    "plt.title('Asian Put Option Payoff')\n",
    "plt.legend()\n",
    "plt.grid(color='red',linestyle='--')\n",
    "\n"
   ]
  }
 ],
 "metadata": {
  "kernelspec": {
   "display_name": "Python 3",
   "language": "python",
   "name": "python3"
  },
  "language_info": {
   "codemirror_mode": {
    "name": "ipython",
    "version": 3
   },
   "file_extension": ".py",
   "mimetype": "text/x-python",
   "name": "python",
   "nbconvert_exporter": "python",
   "pygments_lexer": "ipython3",
   "version": "3.13.1"
  }
 },
 "nbformat": 4,
 "nbformat_minor": 5
}
